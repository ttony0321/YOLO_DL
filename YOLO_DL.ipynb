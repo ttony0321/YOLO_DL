{
  "cells": [
    {
      "cell_type": "code",
      "execution_count": 1,
      "metadata": {
        "colab": {
          "base_uri": "https://localhost:8080/"
        },
        "id": "dyzwUSnu_teL",
        "outputId": "cc63d9ab-bade-45f4-83ad-828527929473"
      },
      "outputs": [
        {
          "output_type": "stream",
          "name": "stdout",
          "text": [
            "Looking in indexes: https://pypi.org/simple, https://us-python.pkg.dev/colab-wheels/public/simple/\n",
            "Collecting ultralytics\n",
            "  Downloading ultralytics-8.0.118-py3-none-any.whl (599 kB)\n",
            "\u001b[2K     \u001b[90m━━━━━━━━━━━━━━━━━━━━━━━━━━━━━━━━━━━━━━\u001b[0m \u001b[32m599.6/599.6 kB\u001b[0m \u001b[31m16.2 MB/s\u001b[0m eta \u001b[36m0:00:00\u001b[0m\n",
            "\u001b[?25hRequirement already satisfied: matplotlib>=3.2.2 in /usr/local/lib/python3.10/dist-packages (from ultralytics) (3.7.1)\n",
            "Requirement already satisfied: opencv-python>=4.6.0 in /usr/local/lib/python3.10/dist-packages (from ultralytics) (4.7.0.72)\n",
            "Requirement already satisfied: Pillow>=7.1.2 in /usr/local/lib/python3.10/dist-packages (from ultralytics) (8.4.0)\n",
            "Requirement already satisfied: PyYAML>=5.3.1 in /usr/local/lib/python3.10/dist-packages (from ultralytics) (6.0)\n",
            "Requirement already satisfied: requests>=2.23.0 in /usr/local/lib/python3.10/dist-packages (from ultralytics) (2.27.1)\n",
            "Requirement already satisfied: scipy>=1.4.1 in /usr/local/lib/python3.10/dist-packages (from ultralytics) (1.10.1)\n",
            "Requirement already satisfied: torch>=1.7.0 in /usr/local/lib/python3.10/dist-packages (from ultralytics) (2.0.1+cu118)\n",
            "Requirement already satisfied: torchvision>=0.8.1 in /usr/local/lib/python3.10/dist-packages (from ultralytics) (0.15.2+cu118)\n",
            "Requirement already satisfied: tqdm>=4.64.0 in /usr/local/lib/python3.10/dist-packages (from ultralytics) (4.65.0)\n",
            "Requirement already satisfied: pandas>=1.1.4 in /usr/local/lib/python3.10/dist-packages (from ultralytics) (1.5.3)\n",
            "Requirement already satisfied: seaborn>=0.11.0 in /usr/local/lib/python3.10/dist-packages (from ultralytics) (0.12.2)\n",
            "Requirement already satisfied: psutil in /usr/local/lib/python3.10/dist-packages (from ultralytics) (5.9.5)\n",
            "Requirement already satisfied: contourpy>=1.0.1 in /usr/local/lib/python3.10/dist-packages (from matplotlib>=3.2.2->ultralytics) (1.0.7)\n",
            "Requirement already satisfied: cycler>=0.10 in /usr/local/lib/python3.10/dist-packages (from matplotlib>=3.2.2->ultralytics) (0.11.0)\n",
            "Requirement already satisfied: fonttools>=4.22.0 in /usr/local/lib/python3.10/dist-packages (from matplotlib>=3.2.2->ultralytics) (4.39.3)\n",
            "Requirement already satisfied: kiwisolver>=1.0.1 in /usr/local/lib/python3.10/dist-packages (from matplotlib>=3.2.2->ultralytics) (1.4.4)\n",
            "Requirement already satisfied: numpy>=1.20 in /usr/local/lib/python3.10/dist-packages (from matplotlib>=3.2.2->ultralytics) (1.22.4)\n",
            "Requirement already satisfied: packaging>=20.0 in /usr/local/lib/python3.10/dist-packages (from matplotlib>=3.2.2->ultralytics) (23.1)\n",
            "Requirement already satisfied: pyparsing>=2.3.1 in /usr/local/lib/python3.10/dist-packages (from matplotlib>=3.2.2->ultralytics) (3.0.9)\n",
            "Requirement already satisfied: python-dateutil>=2.7 in /usr/local/lib/python3.10/dist-packages (from matplotlib>=3.2.2->ultralytics) (2.8.2)\n",
            "Requirement already satisfied: pytz>=2020.1 in /usr/local/lib/python3.10/dist-packages (from pandas>=1.1.4->ultralytics) (2022.7.1)\n",
            "Requirement already satisfied: urllib3<1.27,>=1.21.1 in /usr/local/lib/python3.10/dist-packages (from requests>=2.23.0->ultralytics) (1.26.15)\n",
            "Requirement already satisfied: certifi>=2017.4.17 in /usr/local/lib/python3.10/dist-packages (from requests>=2.23.0->ultralytics) (2022.12.7)\n",
            "Requirement already satisfied: charset-normalizer~=2.0.0 in /usr/local/lib/python3.10/dist-packages (from requests>=2.23.0->ultralytics) (2.0.12)\n",
            "Requirement already satisfied: idna<4,>=2.5 in /usr/local/lib/python3.10/dist-packages (from requests>=2.23.0->ultralytics) (3.4)\n",
            "Requirement already satisfied: filelock in /usr/local/lib/python3.10/dist-packages (from torch>=1.7.0->ultralytics) (3.12.0)\n",
            "Requirement already satisfied: typing-extensions in /usr/local/lib/python3.10/dist-packages (from torch>=1.7.0->ultralytics) (4.5.0)\n",
            "Requirement already satisfied: sympy in /usr/local/lib/python3.10/dist-packages (from torch>=1.7.0->ultralytics) (1.11.1)\n",
            "Requirement already satisfied: networkx in /usr/local/lib/python3.10/dist-packages (from torch>=1.7.0->ultralytics) (3.1)\n",
            "Requirement already satisfied: jinja2 in /usr/local/lib/python3.10/dist-packages (from torch>=1.7.0->ultralytics) (3.1.2)\n",
            "Requirement already satisfied: triton==2.0.0 in /usr/local/lib/python3.10/dist-packages (from torch>=1.7.0->ultralytics) (2.0.0)\n",
            "Requirement already satisfied: cmake in /usr/local/lib/python3.10/dist-packages (from triton==2.0.0->torch>=1.7.0->ultralytics) (3.25.2)\n",
            "Requirement already satisfied: lit in /usr/local/lib/python3.10/dist-packages (from triton==2.0.0->torch>=1.7.0->ultralytics) (16.0.5)\n",
            "Requirement already satisfied: six>=1.5 in /usr/local/lib/python3.10/dist-packages (from python-dateutil>=2.7->matplotlib>=3.2.2->ultralytics) (1.16.0)\n",
            "Requirement already satisfied: MarkupSafe>=2.0 in /usr/local/lib/python3.10/dist-packages (from jinja2->torch>=1.7.0->ultralytics) (2.1.2)\n",
            "Requirement already satisfied: mpmath>=0.19 in /usr/local/lib/python3.10/dist-packages (from sympy->torch>=1.7.0->ultralytics) (1.3.0)\n",
            "Installing collected packages: ultralytics\n",
            "Successfully installed ultralytics-8.0.118\n"
          ]
        }
      ],
      "source": [
        "!pip install ultralytics"
      ]
    },
    {
      "cell_type": "code",
      "execution_count": 2,
      "metadata": {
        "id": "v8e1MYIO2mfN"
      },
      "outputs": [],
      "source": [
        "import cv2\n",
        "import os\n",
        "import shutil\n",
        "import glob\n",
        "import ultralytics\n",
        "import matplotlib.pyplot as plt\n",
        "from tqdm import tqdm\n",
        "from sklearn.model_selection import train_test_split"
      ]
    },
    {
      "cell_type": "code",
      "execution_count": 3,
      "metadata": {
        "colab": {
          "base_uri": "https://localhost:8080/"
        },
        "id": "RoexhwmSlhxG",
        "outputId": "bb1bc252-ca66-420e-cc0a-741c5188bef5"
      },
      "outputs": [
        {
          "output_type": "stream",
          "name": "stdout",
          "text": [
            "Mounted at /content/drive\n"
          ]
        }
      ],
      "source": [
        "from google.colab import drive\n",
        "drive.mount('/content/drive')"
      ]
    },
    {
      "cell_type": "code",
      "execution_count": 4,
      "metadata": {
        "colab": {
          "base_uri": "https://localhost:8080/"
        },
        "id": "7KqMo2B5rEav",
        "outputId": "caac5f3f-b264-40c2-e407-a51856ebaad4"
      },
      "outputs": [
        {
          "output_type": "stream",
          "name": "stdout",
          "text": [
            "Looking in indexes: https://pypi.org/simple, https://us-python.pkg.dev/colab-wheels/public/simple/\n",
            "Requirement already satisfied: scipy in /usr/local/lib/python3.10/dist-packages (1.10.1)\n",
            "Requirement already satisfied: numpy<1.27.0,>=1.19.5 in /usr/local/lib/python3.10/dist-packages (from scipy) (1.22.4)\n"
          ]
        }
      ],
      "source": [
        "#Download YOLO v5\n",
        "#pip install -r yolov5/requirements.txt\n",
        "#! pip install scipy --upgrade\n",
        "# !git clone https://github.com/ultralytics/yolov5  # clone\n",
        "# %cd yolov5\n",
        "# !pip install -r requirements.txt  # install"
      ]
    },
    {
      "cell_type": "code",
      "execution_count": 5,
      "metadata": {
        "id": "uuDnGl8Fli2A"
      },
      "outputs": [],
      "source": [
        "path = '/content/drive/MyDrive/mAP_data'\n",
        "#/content/drive/MyDrive/mAP_data/train"
      ]
    },
    {
      "cell_type": "code",
      "execution_count": 6,
      "metadata": {
        "id": "doHlxqwnn28L"
      },
      "outputs": [],
      "source": [
        "def boxes_image(image_path, annotation_path):\n",
        "    image = cv2.imread(image_path)\n",
        "    image = cv2.cvtColor(image, cv2.COLOR_BGR2RGB)\n",
        "\n",
        "    with open(annotation_path, 'r') as file:\n",
        "        lines = file.readlines()\n",
        "\n",
        "    for line in lines:\n",
        "        values = list(map(float, line.strip().split(' ')))\n",
        "        class_id = int(values[0])\n",
        "        x_min, y_min = int(round(values[1])), int(round(values[2]))\n",
        "        x_max, y_max = int(round(max(values[3], values[5], values[7]))), int(round(max(values[4], values[6], values[8])))\n",
        "\n",
        "        #Draw Box\n",
        "\n",
        "        cv2.rectangle(image,( x_min, y_min), (x_max, y_max), (255, 0, 0), 2)\n",
        "        cv2.putText(image, str(class_id), (x_min, y_min - 5), cv2.FONT_HERSHEY_SIMPLEX, 0.5, (255, 0, 0), 2)\n",
        "\n",
        "    plt.figure(figsize=(25, 25))\n",
        "    plt.imshow(image)\n",
        "    plt.show()\n",
        "\n"
      ]
    },
    {
      "cell_type": "code",
      "execution_count": 7,
      "metadata": {
        "id": "OqWOOrMB4bKt"
      },
      "outputs": [],
      "source": [
        "def normalize_texts(texts_list):\n",
        "    for file in tqdm(texts_list):\n",
        "        file_name = os.path.basename(file)\n",
        "        file_name = file_name.split('.')[0]\n",
        "        img = cv2.imread(f'/content/drive/MyDrive/mAP_data/train/{file_name}.png')\n",
        "        img_height, img_width, _ = img.shape\n",
        "        cv2.destroyAllWindows()\n",
        "        with open(file, 'r') as f:\n",
        "            lines_list = []\n",
        "            lines = f.readlines()\n",
        "            for line in lines:\n",
        "                values = list(map(float, line.strip().split(' ')))\n",
        "                class_id = int(values[0])\n",
        "                x_min, y_min = float(min(values[5], values[7])), float(min(values[6], values[8]))\n",
        "                x_max, y_max = float(max(values[1], values[3])), float(max(values[2], values[4]))\n",
        "                x_center, y_center = float(((x_min + x_max) / 2) / img_width), float(((y_min + y_max) / 2) / img_height)\n",
        "                width, height = abs(x_max - x_min) / img_width, abs(y_max - y_min) / img_height\n",
        "                lines_list.append([class_id, x_center, y_center, width, height])\n",
        "        with open(f'/content/drive/MyDrive/mAP_data/label/{file_name}.txt', 'w') as f:\n",
        "            for line in lines_list:\n",
        "                f.write(str(line[0]) + ' ' + str(line[1]) + ' ' + str(line[2]) + ' ' + str(line[3]) + ' ' + str(line[4]) + '\\n')\n",
        "    print('finish')"
      ]
    },
    {
      "cell_type": "code",
      "execution_count": 11,
      "metadata": {
        "colab": {
          "base_uri": "https://localhost:8080/"
        },
        "id": "jNfaAYy6DqIx",
        "outputId": "3259dd9d-3786-467d-e46a-c8a608a9ba18"
      },
      "outputs": [
        {
          "output_type": "stream",
          "name": "stdout",
          "text": [
            "skip!\n"
          ]
        }
      ],
      "source": [
        "#checking label_files\n",
        "if not os.path.exists('/content/drive/MyDrive/mAP_data/label'):\n",
        "    os.makedirs('/content/drive/MyDrive/mAP_data/label')\n",
        "\n",
        "if (len(os.listdir('/content/drive/MyDrive/mAP_data/label'))) != 6482:\n",
        "    print('start moving')\n",
        "    #원상태\n",
        "    path = '/content/drive/MyDrive/mAP_data/'\n",
        "    train_folder = f'{path}train'\n",
        "    valid_folder = f'{path}valid'\n",
        "    #test_folder = f'{path}yolo/test'\n",
        "\n",
        "    train_images = sorted(glob.glob(f'{path}/yolo/train/*.png'))\n",
        "    train_txts = sorted(glob.glob(f'{path}/yolo/train/*.txt'))\n",
        "\n",
        "    valid_images = sorted(glob.glob(f'{path}/yolo/valid/*.png'))\n",
        "    valid_txts = sorted(glob.glob(f'{path}/yolo/valid/*.txt'))\n",
        "\n",
        "    for train_image in tqdm(train_images, desc='Copying train images'):\n",
        "        shutil.move(train_image, train_folder)\n",
        "    for train_txt in tqdm(train_txts, desc='Copying train annotations'):\n",
        "        try:\n",
        "            shutil.move(train_txt, train_folder)\n",
        "        except:\n",
        "            pass\n",
        "    for valid_image in tqdm(valid_images, desc='Copying valid images'):\n",
        "        shutil.move(valid_image, train_folder)\n",
        "    for valid_txt in tqdm(valid_txts, desc='Copying valid annotations'):\n",
        "        try:\n",
        "            shutil.move(valid_txt, train_folder)\n",
        "        except:\n",
        "            pass\n",
        "    #normalize_texts\n",
        "    %cd /content/drive/MyDrive/mAP_data/label/\n",
        "    !unzip \"label.zip\"\n",
        "    %cd /content\n",
        "else:\n",
        "    print('skip!')"
      ]
    },
    {
      "cell_type": "code",
      "execution_count": 12,
      "metadata": {
        "id": "Kjz6blqCEgzC"
      },
      "outputs": [],
      "source": [
        "#test path\n",
        "image_path = f'{path}/train/syn_00301.png'\n",
        "annotation_path = f'{path}/train/syn_00301.txt'"
      ]
    },
    {
      "cell_type": "code",
      "execution_count": 13,
      "metadata": {
        "id": "5HrKtB9KG--A"
      },
      "outputs": [],
      "source": [
        "#boxes_image(image_path, annotation_path)"
      ]
    },
    {
      "cell_type": "code",
      "execution_count": 14,
      "metadata": {
        "id": "wzdSAjlMFi5H",
        "colab": {
          "base_uri": "https://localhost:8080/"
        },
        "outputId": "752f83a4-6c11-43d3-b1f0-b3bf3aaf62ab"
      },
      "outputs": [
        {
          "output_type": "stream",
          "name": "stdout",
          "text": [
            "/content/drive/MyDrive/mAP_data/yolo\n",
            "Cloning into 'yolov5'...\n",
            "remote: Enumerating objects: 15973, done.\u001b[K\n",
            "remote: Counting objects: 100% (142/142), done.\u001b[K\n",
            "remote: Compressing objects: 100% (79/79), done.\u001b[K\n",
            "remote: Total 15973 (delta 84), reused 97 (delta 63), pack-reused 15831\u001b[K\n",
            "Receiving objects: 100% (15973/15973), 14.57 MiB | 14.21 MiB/s, done.\n",
            "Resolving deltas: 100% (10958/10958), done.\n",
            "/content/drive/MyDrive/mAP_data/yolo/yolov5\n",
            "Looking in indexes: https://pypi.org/simple, https://us-python.pkg.dev/colab-wheels/public/simple/\n",
            "Collecting gitpython>=3.1.30 (from -r requirements.txt (line 5))\n",
            "  Downloading GitPython-3.1.31-py3-none-any.whl (184 kB)\n",
            "\u001b[2K     \u001b[90m━━━━━━━━━━━━━━━━━━━━━━━━━━━━━━━━━━━━━━\u001b[0m \u001b[32m184.3/184.3 kB\u001b[0m \u001b[31m11.6 MB/s\u001b[0m eta \u001b[36m0:00:00\u001b[0m\n",
            "\u001b[?25hRequirement already satisfied: matplotlib>=3.3 in /usr/local/lib/python3.10/dist-packages (from -r requirements.txt (line 6)) (3.7.1)\n",
            "Requirement already satisfied: numpy>=1.18.5 in /usr/local/lib/python3.10/dist-packages (from -r requirements.txt (line 7)) (1.22.4)\n",
            "Requirement already satisfied: opencv-python>=4.1.1 in /usr/local/lib/python3.10/dist-packages (from -r requirements.txt (line 8)) (4.7.0.72)\n",
            "Requirement already satisfied: Pillow>=7.1.2 in /usr/local/lib/python3.10/dist-packages (from -r requirements.txt (line 9)) (8.4.0)\n",
            "Requirement already satisfied: psutil in /usr/local/lib/python3.10/dist-packages (from -r requirements.txt (line 10)) (5.9.5)\n",
            "Requirement already satisfied: PyYAML>=5.3.1 in /usr/local/lib/python3.10/dist-packages (from -r requirements.txt (line 11)) (6.0)\n",
            "Requirement already satisfied: requests>=2.23.0 in /usr/local/lib/python3.10/dist-packages (from -r requirements.txt (line 12)) (2.27.1)\n",
            "Requirement already satisfied: scipy>=1.4.1 in /usr/local/lib/python3.10/dist-packages (from -r requirements.txt (line 13)) (1.10.1)\n",
            "Collecting thop>=0.1.1 (from -r requirements.txt (line 14))\n",
            "  Downloading thop-0.1.1.post2209072238-py3-none-any.whl (15 kB)\n",
            "Requirement already satisfied: torch>=1.7.0 in /usr/local/lib/python3.10/dist-packages (from -r requirements.txt (line 15)) (2.0.1+cu118)\n",
            "Requirement already satisfied: torchvision>=0.8.1 in /usr/local/lib/python3.10/dist-packages (from -r requirements.txt (line 16)) (0.15.2+cu118)\n",
            "Requirement already satisfied: tqdm>=4.64.0 in /usr/local/lib/python3.10/dist-packages (from -r requirements.txt (line 17)) (4.65.0)\n",
            "Requirement already satisfied: ultralytics>=8.0.111 in /usr/local/lib/python3.10/dist-packages (from -r requirements.txt (line 18)) (8.0.118)\n",
            "Requirement already satisfied: pandas>=1.1.4 in /usr/local/lib/python3.10/dist-packages (from -r requirements.txt (line 27)) (1.5.3)\n",
            "Requirement already satisfied: seaborn>=0.11.0 in /usr/local/lib/python3.10/dist-packages (from -r requirements.txt (line 28)) (0.12.2)\n",
            "Requirement already satisfied: setuptools>=65.5.1 in /usr/local/lib/python3.10/dist-packages (from -r requirements.txt (line 42)) (67.7.2)\n",
            "Collecting gitdb<5,>=4.0.1 (from gitpython>=3.1.30->-r requirements.txt (line 5))\n",
            "  Downloading gitdb-4.0.10-py3-none-any.whl (62 kB)\n",
            "\u001b[2K     \u001b[90m━━━━━━━━━━━━━━━━━━━━━━━━━━━━━━━━━━━━━━━━\u001b[0m \u001b[32m62.7/62.7 kB\u001b[0m \u001b[31m9.5 MB/s\u001b[0m eta \u001b[36m0:00:00\u001b[0m\n",
            "\u001b[?25hRequirement already satisfied: contourpy>=1.0.1 in /usr/local/lib/python3.10/dist-packages (from matplotlib>=3.3->-r requirements.txt (line 6)) (1.0.7)\n",
            "Requirement already satisfied: cycler>=0.10 in /usr/local/lib/python3.10/dist-packages (from matplotlib>=3.3->-r requirements.txt (line 6)) (0.11.0)\n",
            "Requirement already satisfied: fonttools>=4.22.0 in /usr/local/lib/python3.10/dist-packages (from matplotlib>=3.3->-r requirements.txt (line 6)) (4.39.3)\n",
            "Requirement already satisfied: kiwisolver>=1.0.1 in /usr/local/lib/python3.10/dist-packages (from matplotlib>=3.3->-r requirements.txt (line 6)) (1.4.4)\n",
            "Requirement already satisfied: packaging>=20.0 in /usr/local/lib/python3.10/dist-packages (from matplotlib>=3.3->-r requirements.txt (line 6)) (23.1)\n",
            "Requirement already satisfied: pyparsing>=2.3.1 in /usr/local/lib/python3.10/dist-packages (from matplotlib>=3.3->-r requirements.txt (line 6)) (3.0.9)\n",
            "Requirement already satisfied: python-dateutil>=2.7 in /usr/local/lib/python3.10/dist-packages (from matplotlib>=3.3->-r requirements.txt (line 6)) (2.8.2)\n",
            "Requirement already satisfied: urllib3<1.27,>=1.21.1 in /usr/local/lib/python3.10/dist-packages (from requests>=2.23.0->-r requirements.txt (line 12)) (1.26.15)\n",
            "Requirement already satisfied: certifi>=2017.4.17 in /usr/local/lib/python3.10/dist-packages (from requests>=2.23.0->-r requirements.txt (line 12)) (2022.12.7)\n",
            "Requirement already satisfied: charset-normalizer~=2.0.0 in /usr/local/lib/python3.10/dist-packages (from requests>=2.23.0->-r requirements.txt (line 12)) (2.0.12)\n",
            "Requirement already satisfied: idna<4,>=2.5 in /usr/local/lib/python3.10/dist-packages (from requests>=2.23.0->-r requirements.txt (line 12)) (3.4)\n",
            "Requirement already satisfied: filelock in /usr/local/lib/python3.10/dist-packages (from torch>=1.7.0->-r requirements.txt (line 15)) (3.12.0)\n",
            "Requirement already satisfied: typing-extensions in /usr/local/lib/python3.10/dist-packages (from torch>=1.7.0->-r requirements.txt (line 15)) (4.5.0)\n",
            "Requirement already satisfied: sympy in /usr/local/lib/python3.10/dist-packages (from torch>=1.7.0->-r requirements.txt (line 15)) (1.11.1)\n",
            "Requirement already satisfied: networkx in /usr/local/lib/python3.10/dist-packages (from torch>=1.7.0->-r requirements.txt (line 15)) (3.1)\n",
            "Requirement already satisfied: jinja2 in /usr/local/lib/python3.10/dist-packages (from torch>=1.7.0->-r requirements.txt (line 15)) (3.1.2)\n",
            "Requirement already satisfied: triton==2.0.0 in /usr/local/lib/python3.10/dist-packages (from torch>=1.7.0->-r requirements.txt (line 15)) (2.0.0)\n",
            "Requirement already satisfied: cmake in /usr/local/lib/python3.10/dist-packages (from triton==2.0.0->torch>=1.7.0->-r requirements.txt (line 15)) (3.25.2)\n",
            "Requirement already satisfied: lit in /usr/local/lib/python3.10/dist-packages (from triton==2.0.0->torch>=1.7.0->-r requirements.txt (line 15)) (16.0.5)\n",
            "Requirement already satisfied: pytz>=2020.1 in /usr/local/lib/python3.10/dist-packages (from pandas>=1.1.4->-r requirements.txt (line 27)) (2022.7.1)\n",
            "Collecting smmap<6,>=3.0.1 (from gitdb<5,>=4.0.1->gitpython>=3.1.30->-r requirements.txt (line 5))\n",
            "  Downloading smmap-5.0.0-py3-none-any.whl (24 kB)\n",
            "Requirement already satisfied: six>=1.5 in /usr/local/lib/python3.10/dist-packages (from python-dateutil>=2.7->matplotlib>=3.3->-r requirements.txt (line 6)) (1.16.0)\n",
            "Requirement already satisfied: MarkupSafe>=2.0 in /usr/local/lib/python3.10/dist-packages (from jinja2->torch>=1.7.0->-r requirements.txt (line 15)) (2.1.2)\n",
            "Requirement already satisfied: mpmath>=0.19 in /usr/local/lib/python3.10/dist-packages (from sympy->torch>=1.7.0->-r requirements.txt (line 15)) (1.3.0)\n",
            "Installing collected packages: smmap, gitdb, gitpython, thop\n",
            "Successfully installed gitdb-4.0.10 gitpython-3.1.31 smmap-5.0.0 thop-0.1.1.post2209072238\n"
          ]
        }
      ],
      "source": [
        "#Checking dir & install YOLO\n",
        "#path = /content/drive/MyDrive/mAP_data/\n",
        "if os.path.exists(\"/content/drive/MyDrive/mAP_data/yolo/yolov5\"):\n",
        "    shutil.rmtree('/content/drive/MyDrive/mAP_data/yolo/yolov5')\n",
        "\n",
        "%cd /content/drive/MyDrive/mAP_data/yolo/\n",
        "!git clone https://github.com/ultralytics/yolov5  # clone\n",
        "%cd yolov5\n",
        "!pip install -r requirements.txt  # install\n",
        "\n",
        "if not os.path.exists('/content/drive/MyDrive/mAP_data/yolo/train'):\n",
        "    os.makedirs('/content/drive/MyDrive/mAP_data/yolo/train')\n",
        "\n",
        "if not os.path.exists('/content/drive/MyDrive/mAP_data/yolo/valid'):\n",
        "    os.makedirs('/content/drive/MyDrive/mAP_data/yolo/valid')\n",
        "\n",
        "if not os.path.exists('/content/drive/MyDrive/mAP_data/yolo/test'):\n",
        "    os.makedirs('/content/drive/MyDrive/mAP_data/yolo/test')\n",
        "\n",
        "if not os.path.exists('/content/drive/MyDrive/mAP_data/results'):\n",
        "    os.makedirs('/content/drive/MyDrive/mAP_data/results')"
      ]
    },
    {
      "cell_type": "code",
      "execution_count": 15,
      "metadata": {
        "id": "V_R-frD7dFxr",
        "colab": {
          "base_uri": "https://localhost:8080/"
        },
        "outputId": "24906671-97cd-44d4-96ed-8813ac8a63cc"
      },
      "outputs": [
        {
          "output_type": "stream",
          "name": "stderr",
          "text": [
            "Copying train images: 100%|██████████| 5832/5832 [00:18<00:00, 323.55it/s]\n",
            "Copying train annotations: 100%|██████████| 6481/6481 [00:03<00:00, 1828.86it/s]\n",
            "Copying valid images: 100%|██████████| 649/649 [00:02<00:00, 318.74it/s]\n",
            "Copying valid annotations: 100%|██████████| 973/973 [00:00<00:00, 1831.63it/s]\n"
          ]
        }
      ],
      "source": [
        "path = '/content/drive/MyDrive/mAP_data/'\n",
        "train_folder = f'{path}train'\n",
        "valid_folder = f'{path}valid'\n",
        "#test_folder = f'{path}yolo/test'\n",
        "train_images = sorted(glob.glob(f'{path}/yolo/train/*.png'))\n",
        "train_txts = sorted(glob.glob(f'{path}/yolo/train/*.txt'))\n",
        "valid_images = sorted(glob.glob(f'{path}/yolo/valid/*.png'))\n",
        "valid_txts = sorted(glob.glob(f'{path}/yolo/valid/*.txt'))\n",
        "for train_image in tqdm(train_images, desc='Copying train images'):\n",
        "    shutil.move(train_image, train_folder)\n",
        "for train_txt in tqdm(train_txts, desc='Copying train annotations'):\n",
        "    try:\n",
        "        shutil.move(train_txt, train_folder)\n",
        "    except:\n",
        "        pass\n",
        "for valid_image in tqdm(valid_images, desc='Copying valid images'):\n",
        "    shutil.move(valid_image, train_folder)\n",
        "for valid_txt in tqdm(valid_txts, desc='Copying valid annotations'):\n",
        "    try:\n",
        "        shutil.move(valid_txt, train_folder)\n",
        "    except:\n",
        "        pass"
      ]
    },
    {
      "cell_type": "code",
      "execution_count": 18,
      "metadata": {
        "id": "lDZg_DfkK2Hp",
        "colab": {
          "base_uri": "https://localhost:8080/"
        },
        "outputId": "d6799cea-5fcc-49a3-b8c3-1c6ebcbdf479"
      },
      "outputs": [
        {
          "output_type": "stream",
          "name": "stdout",
          "text": [
            "6481 6481\n"
          ]
        }
      ],
      "source": [
        "#divide train, validation datasets\n",
        "path = '/content/drive/MyDrive/mAP_data/'\n",
        "image_paths = sorted(glob.glob(f'{path}/train/*.png'))\n",
        "text_paths = sorted(glob.glob(f'{path}/label/*.txt'))\n",
        "print(len(image_paths), len(text_paths))\n",
        "train_images, valid_images, train_txts, valid_txts = train_test_split(image_paths, text_paths, test_size=0.1, random_state=69)"
      ]
    },
    {
      "cell_type": "code",
      "execution_count": 19,
      "metadata": {
        "id": "25wgO_6nadhm",
        "colab": {
          "base_uri": "https://localhost:8080/"
        },
        "outputId": "5c5f6edd-d606-4118-afe7-6f1c985f34f9"
      },
      "outputs": [
        {
          "output_type": "stream",
          "name": "stdout",
          "text": [
            "6481 6481\n"
          ]
        }
      ],
      "source": [
        "print(len(image_paths), len(text_paths))"
      ]
    },
    {
      "cell_type": "code",
      "execution_count": 20,
      "metadata": {
        "id": "CuqgxaGjJhfF",
        "colab": {
          "base_uri": "https://localhost:8080/"
        },
        "outputId": "2b5da242-095a-41e1-813d-3093bec278f2"
      },
      "outputs": [
        {
          "output_type": "stream",
          "name": "stderr",
          "text": [
            "Copying train images: 100%|██████████| 5832/5832 [00:26<00:00, 222.68it/s]\n",
            "Copying train annotations: 100%|██████████| 5832/5832 [00:03<00:00, 1613.31it/s]\n",
            "Copying valid images: 100%|██████████| 649/649 [00:02<00:00, 314.86it/s]\n",
            "Copying valid annotations: 100%|██████████| 649/649 [00:00<00:00, 2202.58it/s]"
          ]
        },
        {
          "output_type": "stream",
          "name": "stdout",
          "text": [
            "42 42 41\n"
          ]
        },
        {
          "output_type": "stream",
          "name": "stderr",
          "text": [
            "\n"
          ]
        }
      ],
      "source": [
        "#folder\n",
        "train_folder = f'{path}yolo/train'\n",
        "valid_folder = f'{path}yolo/valid'\n",
        "test_folder = f'{path}yolo/test'\n",
        "\n",
        "train_images.sort()\n",
        "valid_images.sort()\n",
        "train_txts.sort()\n",
        "valid_txts.sort()\n",
        "\n",
        "for train_image in tqdm(train_images, desc='Copying train images'):\n",
        "    shutil.move(train_image, train_folder)\n",
        "for train_txt in tqdm(train_txts, desc='Copying train annotations'):\n",
        "    try:\n",
        "        shutil.move(train_txt, train_folder)\n",
        "    except:\n",
        "        pass\n",
        "\n",
        "for valid_image in tqdm(valid_images, desc='Copying valid images'):\n",
        "    shutil.move(valid_image, valid_folder)\n",
        "for valid_txt in tqdm(valid_txts, desc='Copying valid annotations'):\n",
        "    try:\n",
        "        shutil.move(valid_txt, train_folder)\n",
        "    except:\n",
        "        pass\n",
        "\n",
        "print(len(train_folder),len(valid_folder), len(test_folder))"
      ]
    },
    {
      "cell_type": "markdown",
      "source": [
        "#Yolo yaml 파일 만들기"
      ],
      "metadata": {
        "id": "2S7FPjEyuDW9"
      }
    },
    {
      "cell_type": "code",
      "execution_count": 22,
      "metadata": {
        "id": "fU5QThJnHB5n"
      },
      "outputs": [],
      "source": [
        "#Create yaml file\n",
        "import yaml\n",
        "#open classes.txt\n",
        "with open(f'{path}/classes.txt', 'r') as cl:\n",
        "    lines = cl.readlines()\n",
        "\n",
        "    classes = [line.strip().split(',')[1] for line in lines]\n",
        "data_yaml = {\n",
        "    'nc': len(classes),\n",
        "    'names' : classes,\n",
        "    'train': '/content/drive/MyDrive/mAP_data/yolo/train',\n",
        "    'val': '/content/drive/MyDrive/mAP_data/yolo/valid',\n",
        "    'test': '/content/drive/MyDrive/mAP_data/test'\n",
        "}\n",
        "with open(f'{path}/data.yaml', 'w')as f:\n",
        "    yaml.dump(data_yaml, f)"
      ]
    },
    {
      "cell_type": "code",
      "execution_count": 23,
      "metadata": {
        "id": "bDbM-uP_yEHN",
        "colab": {
          "base_uri": "https://localhost:8080/"
        },
        "outputId": "57c0f7cd-6c8e-478b-db47-0f7aa8d75410"
      },
      "outputs": [
        {
          "output_type": "stream",
          "name": "stdout",
          "text": [
            "chevrolet_malibu_sedan_2012_2016\n"
          ]
        }
      ],
      "source": [
        "test = '000,chevrolet_malibu_sedan_2012_2016'\n",
        "print(test.strip().split(',')[1])\n",
        "#[line.strip().split(',')[1] for line in lines]"
      ]
    },
    {
      "cell_type": "code",
      "execution_count": 24,
      "metadata": {
        "id": "gMx_6YDo067H",
        "colab": {
          "base_uri": "https://localhost:8080/"
        },
        "outputId": "e94a3b2b-37fe-4f74-ce7f-b0780c8633ce"
      },
      "outputs": [
        {
          "output_type": "stream",
          "name": "stdout",
          "text": [
            "names:\n",
            "- chevrolet_malibu_sedan_2012_2016\n",
            "- chevrolet_malibu_sedan_2017_2019\n",
            "- chevrolet_spark_hatchback_2016_2021\n",
            "- chevrolet_trailblazer_suv_2021_\n",
            "- chevrolet_trax_suv_2017_2019\n",
            "- genesis_g80_sedan_2016_2020\n",
            "- genesis_g80_sedan_2021_\n",
            "- genesis_gv80_suv_2020_\n",
            "- hyundai_avante_sedan_2011_2015\n",
            "- hyundai_avante_sedan_2020_\n",
            "- hyundai_grandeur_sedan_2011_2016\n",
            "- hyundai_grandstarex_van_2018_2020\n",
            "- hyundai_ioniq_hatchback_2016_2019\n",
            "- hyundai_sonata_sedan_2004_2009\n",
            "- hyundai_sonata_sedan_2010_2014\n",
            "- hyundai_sonata_sedan_2019_2020\n",
            "- kia_carnival_van_2015_2020\n",
            "- kia_carnival_van_2021_\n",
            "- kia_k5_sedan_2010_2015\n",
            "- kia_k5_sedan_2020_\n",
            "- kia_k7_sedan_2016_2020\n",
            "- kia_mohave_suv_2020_\n",
            "- kia_morning_hatchback_2004_2010\n",
            "- kia_morning_hatchback_2011_2016\n",
            "- kia_ray_hatchback_2012_2017\n",
            "- kia_sorrento_suv_2015_2019\n",
            "- kia_sorrento_suv_2020_\n",
            "- kia_soul_suv_2014_2018\n",
            "- kia_sportage_suv_2016_2020\n",
            "- kia_stonic_suv_2017_2019\n",
            "- renault_sm3_sedan_2015_2018\n",
            "- renault_xm3_suv_2020_\n",
            "- ssangyong_korando_suv_2019_2020\n",
            "- ssangyong_tivoli_suv_2016_2020\n",
            "nc: 34\n",
            "test: /content/drive/MyDrive/mAP_data/test\n",
            "train: /content/drive/MyDrive/mAP_data/yolo/train\n",
            "val: /content/drive/MyDrive/mAP_data/yolo/valid\n"
          ]
        }
      ],
      "source": [
        "!cat /content/drive/MyDrive/mAP_data/data.yaml"
      ]
    },
    {
      "cell_type": "code",
      "execution_count": 25,
      "metadata": {
        "id": "MLOS-jZR9JTI",
        "colab": {
          "base_uri": "https://localhost:8080/"
        },
        "outputId": "a066338c-5761-4d94-ce61-757d5b862e73"
      },
      "outputs": [
        {
          "output_type": "stream",
          "name": "stdout",
          "text": [
            "/content/drive/MyDrive/mAP_data/yolo/yolov5\n",
            "/content/drive/MyDrive/mAP_data/yolo/yolov5\n"
          ]
        }
      ],
      "source": [
        "%cd /content/drive/MyDrive/mAP_data/yolo/yolov5\n",
        "!pwd"
      ]
    },
    {
      "cell_type": "markdown",
      "source": [
        "###Yolov5"
      ],
      "metadata": {
        "id": "MGZmQM6Xup51"
      }
    },
    {
      "cell_type": "code",
      "execution_count": 27,
      "metadata": {
        "id": "87l9qlXOyKgw",
        "colab": {
          "base_uri": "https://localhost:8080/"
        },
        "outputId": "7e492756-5ab3-4968-af6e-d53cbb483a0c"
      },
      "outputs": [
        {
          "output_type": "stream",
          "name": "stdout",
          "text": [
            "\u001b[34m\u001b[1mtrain: \u001b[0mweights=yolov5s.pt, cfg=, data=/content/drive/MyDrive/mAP_data/data.yaml, hyp=data/hyps/hyp.scratch-low.yaml, epochs=20, batch_size=32, imgsz=960, rect=False, resume=False, nosave=False, noval=False, noautoanchor=False, noplots=False, evolve=None, bucket=, cache=ram, image_weights=False, device=0, multi_scale=False, single_cls=False, optimizer=Adam, sync_bn=False, workers=8, project=/content/drive/MyDrive/mAP_data/yolo/results, name=exp, exist_ok=False, quad=False, cos_lr=False, label_smoothing=0.0, patience=100, freeze=[0], save_period=10, seed=0, local_rank=-1, entity=None, upload_dataset=False, bbox_interval=-1, artifact_alias=latest\n",
            "\u001b[34m\u001b[1mgithub: \u001b[0mup to date with https://github.com/ultralytics/yolov5 ✅\n",
            "YOLOv5 🚀 v7.0-181-g3812a1a Python-3.10.12 torch-2.0.1+cu118 CUDA:0 (Tesla T4, 15102MiB)\n",
            "\n",
            "\u001b[34m\u001b[1mhyperparameters: \u001b[0mlr0=0.01, lrf=0.01, momentum=0.937, weight_decay=0.0005, warmup_epochs=3.0, warmup_momentum=0.8, warmup_bias_lr=0.1, box=0.05, cls=0.5, cls_pw=1.0, obj=1.0, obj_pw=1.0, iou_t=0.2, anchor_t=4.0, fl_gamma=0.0, hsv_h=0.015, hsv_s=0.7, hsv_v=0.4, degrees=0.0, translate=0.1, scale=0.5, shear=0.0, perspective=0.0, flipud=0.0, fliplr=0.5, mosaic=1.0, mixup=0.0, copy_paste=0.0\n",
            "\u001b[34m\u001b[1mComet: \u001b[0mrun 'pip install comet_ml' to automatically track and visualize YOLOv5 🚀 runs in Comet\n",
            "\u001b[34m\u001b[1mTensorBoard: \u001b[0mStart with 'tensorboard --logdir /content/drive/MyDrive/mAP_data/yolo/results', view at http://localhost:6006/\n",
            "Downloading https://ultralytics.com/assets/Arial.ttf to /root/.config/Ultralytics/Arial.ttf...\n",
            "100% 755k/755k [00:00<00:00, 44.0MB/s]\n",
            "Downloading https://github.com/ultralytics/yolov5/releases/download/v7.0/yolov5s.pt to yolov5s.pt...\n",
            "100% 14.1M/14.1M [00:00<00:00, 163MB/s]\n",
            "\n",
            "Overriding model.yaml nc=80 with nc=34\n",
            "\n",
            "                 from  n    params  module                                  arguments                     \n",
            "  0                -1  1      3520  models.common.Conv                      [3, 32, 6, 2, 2]              \n",
            "  1                -1  1     18560  models.common.Conv                      [32, 64, 3, 2]                \n",
            "  2                -1  1     18816  models.common.C3                        [64, 64, 1]                   \n",
            "  3                -1  1     73984  models.common.Conv                      [64, 128, 3, 2]               \n",
            "  4                -1  2    115712  models.common.C3                        [128, 128, 2]                 \n",
            "  5                -1  1    295424  models.common.Conv                      [128, 256, 3, 2]              \n",
            "  6                -1  3    625152  models.common.C3                        [256, 256, 3]                 \n",
            "  7                -1  1   1180672  models.common.Conv                      [256, 512, 3, 2]              \n",
            "  8                -1  1   1182720  models.common.C3                        [512, 512, 1]                 \n",
            "  9                -1  1    656896  models.common.SPPF                      [512, 512, 5]                 \n",
            " 10                -1  1    131584  models.common.Conv                      [512, 256, 1, 1]              \n",
            " 11                -1  1         0  torch.nn.modules.upsampling.Upsample    [None, 2, 'nearest']          \n",
            " 12           [-1, 6]  1         0  models.common.Concat                    [1]                           \n",
            " 13                -1  1    361984  models.common.C3                        [512, 256, 1, False]          \n",
            " 14                -1  1     33024  models.common.Conv                      [256, 128, 1, 1]              \n",
            " 15                -1  1         0  torch.nn.modules.upsampling.Upsample    [None, 2, 'nearest']          \n",
            " 16           [-1, 4]  1         0  models.common.Concat                    [1]                           \n",
            " 17                -1  1     90880  models.common.C3                        [256, 128, 1, False]          \n",
            " 18                -1  1    147712  models.common.Conv                      [128, 128, 3, 2]              \n",
            " 19          [-1, 14]  1         0  models.common.Concat                    [1]                           \n",
            " 20                -1  1    296448  models.common.C3                        [256, 256, 1, False]          \n",
            " 21                -1  1    590336  models.common.Conv                      [256, 256, 3, 2]              \n",
            " 22          [-1, 10]  1         0  models.common.Concat                    [1]                           \n",
            " 23                -1  1   1182720  models.common.C3                        [512, 512, 1, False]          \n",
            " 24      [17, 20, 23]  1    105183  models.yolo.Detect                      [34, [[10, 13, 16, 30, 33, 23], [30, 61, 62, 45, 59, 119], [116, 90, 156, 198, 373, 326]], [128, 256, 512]]\n",
            "Model summary: 214 layers, 7111327 parameters, 7111327 gradients, 16.2 GFLOPs\n",
            "\n",
            "Transferred 343/349 items from yolov5s.pt\n",
            "\u001b[34m\u001b[1mAMP: \u001b[0mchecks passed ✅\n",
            "\u001b[34m\u001b[1moptimizer:\u001b[0m Adam(lr=0.01) with parameter groups 57 weight(decay=0.0), 60 weight(decay=0.0005), 60 bias\n",
            "\u001b[34m\u001b[1malbumentations: \u001b[0mBlur(p=0.01, blur_limit=(3, 7)), MedianBlur(p=0.01, blur_limit=(3, 7)), ToGray(p=0.01), CLAHE(p=0.01, clip_limit=(1, 4.0), tile_grid_size=(8, 8))\n",
            "\u001b[34m\u001b[1mtrain: \u001b[0mScanning /content/drive/MyDrive/mAP_data/yolo/train... 5832 images, 0 backgrounds, 0 corrupt: 100% 5832/5832 [1:39:13<00:00,  1.02s/it]\n",
            "\u001b[34m\u001b[1mtrain: \u001b[0mNew cache created: /content/drive/MyDrive/mAP_data/yolo/train.cache\n",
            "\u001b[34m\u001b[1mtrain: \u001b[0m8.1GB RAM required, 7.6/12.7GB available, not caching images ⚠️\n",
            "\u001b[34m\u001b[1mval: \u001b[0mScanning /content/drive/MyDrive/mAP_data/yolo/valid... 649 images, 0 backgrounds, 0 corrupt: 100% 649/649 [05:39<00:00,  1.91it/s]\n",
            "\u001b[34m\u001b[1mval: \u001b[0mNew cache created: /content/drive/MyDrive/mAP_data/yolo/valid.cache\n",
            "\u001b[34m\u001b[1mval: \u001b[0mCaching images (0.9GB ram): 100% 649/649 [00:37<00:00, 17.36it/s]\n",
            "\n",
            "\u001b[34m\u001b[1mAutoAnchor: \u001b[0m5.03 anchors/target, 1.000 Best Possible Recall (BPR). Current anchors are a good fit to dataset ✅\n",
            "Plotting labels to /content/drive/MyDrive/mAP_data/yolo/results/exp95/labels.jpg... \n",
            "Image sizes 960 train, 960 val\n",
            "Using 2 dataloader workers\n",
            "Logging results to \u001b[1m/content/drive/MyDrive/mAP_data/yolo/results/exp95\u001b[0m\n",
            "Starting training for 20 epochs...\n",
            "\n",
            "      Epoch    GPU_mem   box_loss   obj_loss   cls_loss  Instances       Size\n",
            "       0/19      13.3G    0.03854    0.03202    0.08665        163        960:  48% 88/183 [35:03<37:50, 23.90s/it]\n",
            "Traceback (most recent call last):\n",
            "  File \"/usr/local/lib/python3.10/dist-packages/torch/utils/data/dataloader.py\", line 633, in __next__\n",
            "    data = self._next_data()\n",
            "  File \"/usr/local/lib/python3.10/dist-packages/torch/utils/data/dataloader.py\", line 1328, in _next_data\n",
            "    idx, data = self._get_data()\n",
            "  File \"/usr/local/lib/python3.10/dist-packages/torch/utils/data/dataloader.py\", line 1284, in _get_data\n",
            "    success, data = self._try_get_data()\n",
            "  File \"/usr/local/lib/python3.10/dist-packages/torch/utils/data/dataloader.py\", line 1132, in _try_get_data\n",
            "    data = self._data_queue.get(timeout=timeout)\n",
            "  File \"/usr/lib/python3.10/queue.py\", line 180, in get\n",
            "    self.not_empty.wait(remaining)\n",
            "  File \"/usr/lib/python3.10/threading.py\", line 324, in wait\n",
            "    gotit = waiter.acquire(True, timeout)\n",
            "KeyboardInterrupt\n",
            "\n",
            "During handling of the above exception, another exception occurred:\n",
            "\n",
            "Traceback (most recent call last):\n",
            "  File \"/content/drive/MyDrive/mAP_data/yolo/yolov5/train.py\", line 647, in <module>\n",
            "    main(opt)\n",
            "  File \"/content/drive/MyDrive/mAP_data/yolo/yolov5/train.py\", line 536, in main\n",
            "    train(opt.hyp, opt, device, callbacks)\n",
            "  File \"/content/drive/MyDrive/mAP_data/yolo/yolov5/train.py\", line 291, in train\n",
            "    for i, (imgs, targets, paths, _) in pbar:  # batch -------------------------------------------------------------\n",
            "  File \"/usr/local/lib/python3.10/dist-packages/tqdm/std.py\", line 1178, in __iter__\n",
            "    for obj in iterable:\n",
            "  File \"/content/drive/MyDrive/mAP_data/yolo/yolov5/utils/dataloaders.py\", line 172, in __iter__\n",
            "    yield next(self.iterator)\n",
            "  File \"/usr/local/lib/python3.10/dist-packages/torch/utils/data/dataloader.py\", line 629, in __next__\n",
            "    with torch.autograd.profiler.record_function(self._profile_name):\n",
            "  File \"/usr/local/lib/python3.10/dist-packages/torch/autograd/profiler.py\", line 507, in __exit__\n",
            "    torch.ops.profiler._record_function_exit._RecordFunction(record)\n",
            "  File \"/usr/local/lib/python3.10/dist-packages/torch/_ops.py\", line 287, in __call__\n",
            "    return self._op(*args, **kwargs or {})\n",
            "KeyboardInterrupt\n",
            "^C\n"
          ]
        }
      ],
      "source": [
        "#YOLOv5m\n",
        "!python train.py --img 960 --epochs 20 --batch 32 --save-period 10 --cache --data /content/drive/MyDrive/mAP_data/data.yaml --weights  yolov5s.pt --device 0 --optimizer Adam --project /content/drive/MyDrive/mAP_data/yolo/results --name exp"
      ]
    },
    {
      "cell_type": "markdown",
      "source": [
        "### Yolov8"
      ],
      "metadata": {
        "id": "FLMkTp_nvSG1"
      }
    },
    {
      "cell_type": "code",
      "execution_count": 28,
      "metadata": {
        "id": "XeN_OzwdBo74"
      },
      "outputs": [],
      "source": [
        "#YOLOv8  path : /content/drive/MyDrive/mAP_data/yolo/results/exp3/weights/last.pt\n",
        "#!yolo train model=/content/drive/MyDrive/mAP_data/yolo/results/exp5/weights/last.pt data=/content/drive/MyDrive/mAP_data/data.yaml epochs=10 imgsz=640 batch=32 save=True save_period=5 cache=True device=0 project=/content/drive/MyDrive/mAP_data/yolo/results name=exp optimizer=AdamW verbose=True resume=False workers=16 val=True"
      ]
    },
    {
      "cell_type": "code",
      "source": [
        "# #model = ultralytics.YOLO('/content/drive/MyDrive/mAP_data/yolo/results/exp25/weights/best.pt')\n",
        "\n",
        "# model = ultralytics.YOLO('/content/drive/MyDrive/mAP_data/yolo/results/exp74/weights/last.pt')"
      ],
      "metadata": {
        "id": "-Vj8YlaqwL6V"
      },
      "execution_count": null,
      "outputs": []
    },
    {
      "cell_type": "code",
      "execution_count": 30,
      "metadata": {
        "id": "zGb4LLd8rsxD"
      },
      "outputs": [],
      "source": [
        "# model = ultralytics.YOLO('yolov8m')\n",
        "# #model = ultralytics.YOLO('yolov8m').load('/content/drive/MyDrive/mAP_data/yolo/results/exp25/weights/best.pt')\n",
        "# results = model.train(\n",
        "#     #model='yolov8m',\n",
        "#     data='/content/drive/MyDrive/mAP_data/data.yaml',\n",
        "#     imgsz = 960,\n",
        "#     epochs=200,\n",
        "#     batch=16,\n",
        "#     patience=200,\n",
        "#     warmup_epochs=0,\n",
        "#     #workers=16,\n",
        "#     lr0=0.01,\n",
        "#     #lrf=0.0001,\n",
        "#     device=0,\n",
        "#     project='/content/drive/MyDrive/mAP_data/yolo/results',\n",
        "#     name='exp',\n",
        "#     seed=69,\n",
        "#     optimizer='Adam',\n",
        "#     val=True,\n",
        "#     cache=False,\n",
        "#     pretrained=True,\n",
        "#     save_period=10,\n",
        "#     resume=True\n",
        "#     #weight_decay=0.00005\n",
        "# )\n"
      ]
    },
    {
      "cell_type": "code",
      "execution_count": null,
      "metadata": {
        "id": "0r-cmpqLaOCp"
      },
      "outputs": [],
      "source": [
        "BATCH_SIZE=34\n",
        "def get_test_image_paths(test_image_paths):\n",
        "    for i in range(0, len(test_image_paths), BATCH_SIZE):\n",
        "        yield test_image_paths[i:i+BATCH_SIZE]"
      ]
    },
    {
      "cell_type": "code",
      "execution_count": null,
      "metadata": {
        "id": "gIfys7B3xhzh"
      },
      "outputs": [],
      "source": [
        "test_image_paths = glob.glob(f'/content/drive/MyDrive/mAP_data/test/*.png')\n",
        "(test_image_paths)"
      ]
    },
    {
      "cell_type": "code",
      "execution_count": null,
      "metadata": {
        "id": "QzVUIvcyxoSY"
      },
      "outputs": [],
      "source": [
        "model = ('yolov8m')\n",
        "model = ultralytics.YOLO('/content/drive/MyDrive/mAP_data/yolo/results/exp62/weights/best.pt')\n",
        "for i, image in tqdm(enumerate(get_test_image_paths(test_image_paths)), total=int(len(test_image_paths)/BATCH_SIZE)):\n",
        "    print(i, len(image))\n",
        "    model.predict(source=image, imgsz=960, iou=0.2, conf=0.1, save_conf=True, save_txt=True, project='/content/drive/MyDrive/mAP_data/results', name='pred', exist_ok=False, device=0, verbose=True, augment=True)"
      ]
    },
    {
      "cell_type": "code",
      "execution_count": null,
      "metadata": {
        "id": "6nSRXixO0EHO"
      },
      "outputs": [],
      "source": [
        "len(glob.glob('/content/drive/MyDrive/mAP_data/results/pred24/labels/*.txt'))"
      ]
    },
    {
      "cell_type": "code",
      "execution_count": null,
      "metadata": {
        "id": "8dH1hjYS4-ia"
      },
      "outputs": [],
      "source": [
        "def yolo_to_labelme(line, image_width, image_height, txt_file_name):\n",
        "    file_name = txt_file_name.split(\"/\")[-1].replace(\".txt\", \".png\")\n",
        "    class_id, x, y, width, height, confidence = [float(temp) for temp in line.split()]\n",
        "\n",
        "    x_min = int((x - width / 2) * image_width)\n",
        "    x_max = int((x + width / 2) * image_width)\n",
        "    y_min = int((y - height / 2) * image_height)\n",
        "    y_max = int((y + height / 2) * image_height)\n",
        "\n",
        "    return file_name, int(class_id), confidence, x_min, y_min, x_max, y_min, x_max, y_max, x_min, y_max"
      ]
    },
    {
      "cell_type": "code",
      "execution_count": null,
      "metadata": {
        "id": "wQOcVzh9GTII"
      },
      "outputs": [],
      "source": [
        "import pandas as pd"
      ]
    },
    {
      "cell_type": "code",
      "execution_count": null,
      "metadata": {
        "id": "kLl22lrBGKb0"
      },
      "outputs": [],
      "source": [
        "infer_txts = glob.glob('/content/drive/MyDrive/mAP_data/results/pred24/labels/*.txt')\n",
        "\n",
        "results = []\n",
        "for infer_txt in tqdm(infer_txts):\n",
        "    base_file_name = infer_txt.split(\"/\")[-1].split(\".\")[0]\n",
        "    imgage_height, imgage_width = cv2.imread(f\"/content/drive/MyDrive/mAP_data/test/{base_file_name}.png\").shape[:2]\n",
        "    with open(infer_txt, \"r\") as reader:\n",
        "        lines = reader.readlines()\n",
        "        for line in lines:\n",
        "            results.append(yolo_to_labelme(line, imgage_width, imgage_height, infer_txt))\n",
        "\n",
        "df_submission = pd.DataFrame(data=results, columns=[\"file_name\", \"class_id\", \"confidence\", \"point1_x\", \"point1_y\", \"point2_x\", \"point2_y\", \"point3_x\", \"point3_y\", \"point4_x\", \"point4_y\"])\n",
        "df_submission.to_csv(f\"/content/result.csv\", index=False)"
      ]
    },
    {
      "cell_type": "code",
      "execution_count": null,
      "metadata": {
        "id": "VVIXJtkyGg8l"
      },
      "outputs": [],
      "source": []
    }
  ],
  "metadata": {
    "accelerator": "GPU",
    "colab": {
      "provenance": []
    },
    "kernelspec": {
      "display_name": "Python 3",
      "name": "python3"
    },
    "language_info": {
      "name": "python"
    }
  },
  "nbformat": 4,
  "nbformat_minor": 0
}